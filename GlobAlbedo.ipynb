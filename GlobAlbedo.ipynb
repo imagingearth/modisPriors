{
 "metadata": {
  "name": ""
 },
 "nbformat": 3,
 "nbformat_minor": 0,
 "worksheets": [
  {
   "cells": [
    {
     "cell_type": "heading",
     "level": 1,
     "metadata": {},
     "source": [
      "GlobAlbedo Priors code"
     ]
    },
    {
     "cell_type": "markdown",
     "metadata": {},
     "source": [
      "These notes explain how to generate a BRDF climatology from MODIS `MCD43A1` and `MCD43A2` datasets.\n",
      "\n",
      "It has been tested with version 005 data."
     ]
    },
    {
     "cell_type": "heading",
     "level": 1,
     "metadata": {},
     "source": [
      "Example run"
     ]
    },
    {
     "cell_type": "code",
     "collapsed": false,
     "input": [
      "!python/globAlbedo.py --tile='h17v03' --stage='1' --runStage"
     ],
     "language": "python",
     "metadata": {},
     "outputs": [],
     "prompt_number": 1
    }
   ],
   "metadata": {}
  }
 ]
}